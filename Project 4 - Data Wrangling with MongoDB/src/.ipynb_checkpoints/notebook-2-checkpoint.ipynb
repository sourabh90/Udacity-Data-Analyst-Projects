{
 "cells": [
  {
   "cell_type": "code",
   "execution_count": 1,
   "metadata": {
    "collapsed": true
   },
   "outputs": [],
   "source": [
    "import xml.etree.cElementTree as ET\n",
    "import pprint\n",
    "from datetime import datetime\n",
    "import csv\n",
    "import requests\n",
    "import sys\n",
    "import os\n",
    "import time"
   ]
  },
  {
   "cell_type": "markdown",
   "metadata": {},
   "source": [
    "### Part 1 : Getting the dataset "
   ]
  },
  {
   "cell_type": "markdown",
   "metadata": {},
   "source": [
    "Download the map dataset using Overpass API. We will use python request module to query overpass API to download the map dataset."
   ]
  },
  {
   "cell_type": "code",
   "execution_count": 43,
   "metadata": {
    "collapsed": true
   },
   "outputs": [],
   "source": [
    "START_LAT = 51.54\n",
    "END_LAT = 51.55\n",
    "\n",
    "START_LON = -0.05\n",
    "END_LON = 0.05\n",
    "\n",
    "URL = 'http://overpass-api.de/api/map?bbox={},{},{},{}'.format(START_LON, START_LAT, END_LON, END_LAT)"
   ]
  },
  {
   "cell_type": "code",
   "execution_count": 44,
   "metadata": {
    "collapsed": false
   },
   "outputs": [],
   "source": [
    "DIR = '/Users/sourabh/Desktop/Udacity/DAND/P4 - Data Wrangling/project/P4_OSM_Data_Wrangling'\n",
    "filename='map_data_sample.osm'\n",
    "FILENAME = os.path.join(DIR, filename)"
   ]
  },
  {
   "cell_type": "code",
   "execution_count": 45,
   "metadata": {
    "collapsed": false
   },
   "outputs": [],
   "source": [
    "def download_osm_data(URL, filename, stream=True, timeout=30):\n",
    "    r = requests.get(URL, stream=stream, timeout=timeout)\n",
    "    \n",
    "    print \"Requesting URL :: \", r.url \n",
    "\n",
    "    if r.status_code == 200:\n",
    "        print 'Request successful !!!'\n",
    "        with open(filename, 'wb') as f:\n",
    "            print \"Downloading data to file.\"\n",
    "            i = 0\n",
    "            for chunk in r.iter_content(chunk_size=1024*1024):\n",
    "                if chunk:\n",
    "                    i += 1\n",
    "                    f.write(chunk)\n",
    "                    sys.stdout.write(\"\\r%s\" % ( ('.' * i) ) )    \n",
    "                    sys.stdout.flush()\n",
    "\n",
    "        print '\\nDownload finished. \\n{} is ready.'.format(filename)\n",
    "        print 'File Size :: {} MB'.format(round(os.path.getsize(FILENAME) / (1024.0 * 1024), 3) )\n",
    "    else:\n",
    "        print \"Bad Request...\\n\\n\", r.content\n"
   ]
  },
  {
   "cell_type": "code",
   "execution_count": 46,
   "metadata": {
    "collapsed": false
   },
   "outputs": [
    {
     "name": "stdout",
     "output_type": "stream",
     "text": [
      "Requesting URL ::  http://overpass-api.de/api/map?bbox=-0.05,51.54,0.05,51.55\n",
      "Request successful !!!\n",
      "Downloading data to file.\n",
      ".....................................................................................................................\n",
      "Download finished. \n",
      "/Users/sourabh/Desktop/Udacity/DAND/P4 - Data Wrangling/project/P4_OSM_Data_Wrangling/map_data_sample.osm is ready.\n",
      "File Size :: 8.148 MB\n"
     ]
    }
   ],
   "source": [
    "download_osm_data(URL=URL, filename=FILENAME)"
   ]
  },
  {
   "cell_type": "code",
   "execution_count": 47,
   "metadata": {
    "collapsed": false
   },
   "outputs": [],
   "source": [
    "def sort(data, reverse = False):\n",
    "    \"\"\"\n",
    "    This function will sort a dictionary contents according to values in ASC or DESC order.\n",
    "    \"\"\"\n",
    "    for key, value in data.items():\n",
    "        return { key: [(kk, vv) for vv, kk in sorted([(v, k) for k, v in value.items()], reverse=reverse)] }\n",
    "        \n",
    "\n",
    "def gather_element_counts_levels(root, level=0, tag_counts={}, tag_levels={}, attrib_counts={}):\n",
    "    \"\"\"\n",
    "    This is a utility function that will recursively get the root element of the\n",
    "    XML file and will find all the tags being used in the XML. It will\n",
    "    find the level of each tag(root tag being at level 1), and also count\n",
    "    the number of times the tags appeared.\n",
    "\n",
    "    :param root: Root element of the XML\n",
    "    :param level: Level of the root\n",
    "    :param tags: A dictionary object representing tag counts\n",
    "    :param levels: A dictionary object representing level of each tag\n",
    "\n",
    "    :return: A list object containing the root element, tag counts & levels\n",
    "    \"\"\"\n",
    "    tag_levels[root.tag] = level+1\n",
    "    for child in root.getchildren():\n",
    "        tag = child.tag\n",
    "        for attrib in child.attrib:\n",
    "            attrib = tag + \":\" + attrib\n",
    "            attrib_counts[attrib] = attrib_counts.get(attrib, 0) + 1\n",
    "        #if tag in tag_counts:\n",
    "        #    tag_counts[tag] += 1\n",
    "        #else:\n",
    "        #    tag_counts[tag] = 1\n",
    "        tag_counts[tag] = tag_counts.get(tag, 0) + 1\n",
    "        gather_element_counts_levels(child, level+1, tag_counts, tag_levels, attrib_counts)\n",
    "    return [{\"root\": root.tag}, {\"tag_counts\": tag_counts}, {\"tag_levels\": tag_levels}, {\"attrib_counts\": attrib_counts}]\n",
    "\n",
    "\n",
    "def get_XML_stats(xmltree):\n",
    "    \"\"\"\n",
    "    This function will gather basic statistics for the input XML file. This includes\n",
    "    getting the root tag, and finding all the tags being used with the levels & counts.\n",
    "    :param filename: Input OSM XML file to parse\n",
    "    :return: dictionary containing basic statistics like tag counts, root tag etc.\n",
    "    \"\"\"\n",
    "    start = time.time()\n",
    "    root = xmltree.getroot()\n",
    "    data = gather_element_counts_levels(root)\n",
    "    \n",
    "    data[1] = sort(data[1], reverse=True)\n",
    "    data[2] = sort(data[2])\n",
    "    data[3] = sort(data[3], reverse=True)\n",
    "    \n",
    "    print 'Run time to extract statistics :: {} seconds'.format(round(time.time() - start), 3)\n",
    "    return data\n"
   ]
  },
  {
   "cell_type": "code",
   "execution_count": 104,
   "metadata": {
    "collapsed": false
   },
   "outputs": [
    {
     "name": "stdout",
     "output_type": "stream",
     "text": [
      "Time to read the XML file :: 0.0 seconds\n"
     ]
    }
   ],
   "source": [
    "start = time.time()\n",
    "xmltree = ET.parse(FILENAME)\n",
    "print 'Time to read the XML file :: {} seconds'.format(round(time.time() - start), 4)"
   ]
  },
  {
   "cell_type": "code",
   "execution_count": 105,
   "metadata": {
    "collapsed": false
   },
   "outputs": [
    {
     "name": "stdout",
     "output_type": "stream",
     "text": [
      "Run time to extract statistics :: 1.0 seconds\n"
     ]
    }
   ],
   "source": [
    "stats = get_XML_stats(xmltree)"
   ]
  },
  {
   "cell_type": "code",
   "execution_count": 106,
   "metadata": {
    "collapsed": false
   },
   "outputs": [
    {
     "name": "stdout",
     "output_type": "stream",
     "text": [
      "[{'root': 'osm'},\n",
      " {'tag_counts': [('nd', 73782),\n",
      "                 ('node', 56894),\n",
      "                 ('tag', 56720),\n",
      "                 ('member', 54842),\n",
      "                 ('way', 9378),\n",
      "                 ('relation', 560),\n",
      "                 ('note', 2),\n",
      "                 ('meta', 2),\n",
      "                 ('bounds', 2)]},\n",
      " {'tag_levels': [('osm', 1),\n",
      "                 ('bounds', 2),\n",
      "                 ('meta', 2),\n",
      "                 ('node', 2),\n",
      "                 ('note', 2),\n",
      "                 ('relation', 2),\n",
      "                 ('way', 2),\n",
      "                 ('member', 3),\n",
      "                 ('nd', 3),\n",
      "                 ('tag', 3)]},\n",
      " {'attrib_counts': [('nd:ref', 73782),\n",
      "                    ('node:version', 56894),\n",
      "                    ('node:user', 56894),\n",
      "                    ('node:uid', 56894),\n",
      "                    ('node:timestamp', 56894),\n",
      "                    ('node:lon', 56894),\n",
      "                    ('node:lat', 56894),\n",
      "                    ('node:id', 56894),\n",
      "                    ('node:changeset', 56894),\n",
      "                    ('tag:v', 56720),\n",
      "                    ('tag:k', 56720),\n",
      "                    ('member:type', 54842),\n",
      "                    ('member:role', 54842),\n",
      "                    ('member:ref', 54842),\n",
      "                    ('way:version', 9378),\n",
      "                    ('way:user', 9378),\n",
      "                    ('way:uid', 9378),\n",
      "                    ('way:timestamp', 9378),\n",
      "                    ('way:id', 9378),\n",
      "                    ('way:changeset', 9378),\n",
      "                    ('relation:version', 560),\n",
      "                    ('relation:user', 560),\n",
      "                    ('relation:uid', 560),\n",
      "                    ('relation:timestamp', 560),\n",
      "                    ('relation:id', 560),\n",
      "                    ('relation:changeset', 560),\n",
      "                    ('meta:osm_base', 2),\n",
      "                    ('bounds:minlon', 2),\n",
      "                    ('bounds:minlat', 2),\n",
      "                    ('bounds:maxlon', 2),\n",
      "                    ('bounds:maxlat', 2)]}]\n"
     ]
    }
   ],
   "source": [
    "pprint.pprint(stats)"
   ]
  },
  {
   "cell_type": "markdown",
   "metadata": {},
   "source": [
    "### Audit the data"
   ]
  },
  {
   "cell_type": "markdown",
   "metadata": {},
   "source": [
    "##### Verify latitude & longitudes are within bound"
   ]
  },
  {
   "cell_type": "code",
   "execution_count": 107,
   "metadata": {
    "collapsed": false
   },
   "outputs": [
    {
     "name": "stdout",
     "output_type": "stream",
     "text": [
      "['51.54', '0.05', '-0.05', '51.55']\n",
      "[51.54, 0.05, -0.05, 51.55]\n"
     ]
    }
   ],
   "source": [
    "# Check the lat & lon boundaries\n",
    "print xmltree.find(\"bounds\").attrib.values()\n",
    "print [START_LAT, END_LON, START_LON, END_LAT]"
   ]
  },
  {
   "cell_type": "code",
   "execution_count": 130,
   "metadata": {
    "collapsed": false
   },
   "outputs": [
    {
     "name": "stdout",
     "output_type": "stream",
     "text": [
      "Outside Latitude & Longitude boundary --- 26244916, [51.5269312, 0.1371486]\n",
      "Outside Latitude & Longitude boundary --- 129650696, [51.531186, 0.1023248]\n",
      "tag  --->  {'k': 'name', 'v': 'CTRL Wayside Ventilation Shaft'}\n",
      "tag  --->  {'k': 'railway', 'v': 'ventilation_shaft'}\n",
      "Outside Latitude & Longitude boundary --- 368002355, [51.5211088, -0.0787646]\n",
      "Outside Latitude & Longitude boundary --- 803879504, [51.5330165, 0.0952219]\n",
      "Outside Latitude & Longitude boundary --- 803879507, [51.5344717, 0.0911331]\n",
      "Outside Latitude & Longitude boundary --- 1541138323, [51.5272155, 0.134524]\n",
      "Outside Latitude & Longitude boundary --- 1637627153, [51.5188379, -0.0818524]\n",
      "Outside Latitude & Longitude boundary --- 1637627159, [51.5228322, -0.0761866]\n",
      "Outside Latitude & Longitude boundary --- 1637627160, [51.5231808, -0.0755819]\n",
      "Outside Latitude & Longitude boundary --- 1637627172, [51.5248124, -0.0719266]\n",
      "Outside Latitude & Longitude boundary --- 1637627179, [51.5252803, -0.0709441]\n",
      "Outside Latitude & Longitude boundary --- 1637627181, [51.5256763, -0.0698913]\n",
      "Outside Latitude & Longitude boundary --- 1637627182, [51.5262827, -0.0664355]\n",
      "Outside Latitude & Longitude boundary --- 1637627184, [51.5272401, -0.0579457]\n",
      "Outside Latitude & Longitude boundary --- 1655439982, [51.5223663, -0.0769249]\n",
      "Outside Latitude & Longitude boundary --- 1655439988, [51.5218712, -0.0777279]\n",
      "Outside Latitude & Longitude boundary --- 1725575333, [51.5309648, 0.1022911]\n",
      "tag  --->  {'k': 'name', 'v': 'CTRL Wayside Ventilation Shaft'}\n",
      "tag  --->  {'k': 'railway', 'v': 'ventilation_shaft'}\n",
      "Outside Latitude & Longitude boundary --- 1725576189, [51.5268615, 0.1371302]\n",
      "Outside Latitude & Longitude boundary --- 1725576194, [51.5270304, 0.1344908]\n",
      "Outside Latitude & Longitude boundary --- 1725576214, [51.5272857, 0.1304066]\n",
      "Outside Latitude & Longitude boundary --- 1725576218, [51.527355, 0.1325431]\n",
      "Outside Latitude & Longitude boundary --- 1725576223, [51.527498, 0.1303472]\n",
      "Outside Latitude & Longitude boundary --- 1725576227, [51.5275396, 0.1278695]\n",
      "Outside Latitude & Longitude boundary --- 1725576231, [51.5278672, 0.1267419]\n",
      "Outside Latitude & Longitude boundary --- 1725576234, [51.5279457, 0.1246871]\n",
      "Outside Latitude & Longitude boundary --- 1725576239, [51.5282272, 0.1241455]\n",
      "Outside Latitude & Longitude boundary --- 1725576241, [51.5284303, 0.1215566]\n",
      "Outside Latitude & Longitude boundary --- 1725576243, [51.5286564, 0.1216382]\n",
      "Outside Latitude & Longitude boundary --- 1725576247, [51.5318092, 0.09863]\n",
      "Outside Latitude & Longitude boundary --- 1725576277, [51.5320017, 0.0987771]\n",
      "Outside Latitude & Longitude boundary --- 1725576281, [51.5327985, 0.0950969]\n",
      "Outside Latitude & Longitude boundary --- 1725576285, [51.5335198, 0.0929882]\n",
      "Outside Latitude & Longitude boundary --- 1725576289, [51.5337091, 0.0931759]\n",
      "Outside Latitude & Longitude boundary --- 1725576291, [51.5343042, 0.0909219]\n",
      "Outside Latitude & Longitude boundary --- 2082501636, [51.5215101, -0.0784715]\n",
      "Outside Latitude & Longitude boundary --- 2130595604, [51.5342015, -0.0581127]\n",
      "Outside Latitude & Longitude boundary --- 2130595606, [51.5300128, -0.0743736]\n",
      "Outside Latitude & Longitude boundary --- 2130595610, [51.5343417, -0.057566]\n",
      "Outside Latitude & Longitude boundary --- 2130595611, [51.5301426, -0.0741706]\n",
      "Outside Latitude & Longitude boundary --- 2130595612, [51.5310268, -0.0699147]\n",
      "Outside Latitude & Longitude boundary --- 2130595616, [51.5302134, -0.0740451]\n",
      "Outside Latitude & Longitude boundary --- 2130595617, [51.5333897, -0.0623142]\n",
      "Outside Latitude & Longitude boundary --- 2130595618, [51.5344263, -0.0573]\n",
      "Outside Latitude & Longitude boundary --- 2130595623, [51.5303402, -0.073773]\n",
      "Outside Latitude & Longitude boundary --- 2130595625, [51.531031, -0.069296]\n",
      "Outside Latitude & Longitude boundary --- 2130595626, [51.5346053, -0.0568151]\n",
      "Outside Latitude & Longitude boundary --- 2130595629, [51.5348184, -0.0562119]\n",
      "Outside Latitude & Longitude boundary --- 2130595631, [51.5310932, -0.0679957]\n",
      "Outside Latitude & Longitude boundary --- 2130595632, [51.5336124, -0.0624576]\n",
      "Outside Latitude & Longitude boundary --- 2130595635, [51.5349835, -0.0556483]\n",
      "Outside Latitude & Longitude boundary --- 2130595691, [51.5311403, -0.0673089]\n",
      "Outside Latitude & Longitude boundary --- 2130595699, [51.5312264, -0.0663133]\n",
      "Outside Latitude & Longitude boundary --- 2130595700, [51.5337896, -0.0625712]\n",
      "Outside Latitude & Longitude boundary --- 2130595705, [51.5315039, -0.066179]\n",
      "Outside Latitude & Longitude boundary --- 2130595738, [51.5320172, -0.0658962]\n",
      "Outside Latitude & Longitude boundary --- 2130595740, [51.5340987, -0.0627166]\n",
      "Outside Latitude & Longitude boundary --- 2130595745, [51.5324614, -0.0656237]\n",
      "Outside Latitude & Longitude boundary --- 2130595751, [51.5329364, -0.0653642]\n",
      "Outside Latitude & Longitude boundary --- 2130595757, [51.5223783, -0.0760795]\n",
      "Outside Latitude & Longitude boundary --- 2130595759, [51.5306464, -0.0729224]\n",
      "Outside Latitude & Longitude boundary --- 2130595763, [51.5344288, -0.0606551]\n",
      "Outside Latitude & Longitude boundary --- 2130595766, [51.5225517, -0.0760146]\n",
      "Outside Latitude & Longitude boundary --- 2130595793, [51.5268719, -0.0763572]\n",
      "Outside Latitude & Longitude boundary --- 2130595797, [51.5228954, -0.0758631]\n",
      "Outside Latitude & Longitude boundary --- 2130595807, [51.5342342, -0.0627541]\n",
      "Outside Latitude & Longitude boundary --- 2130595809, [51.5215431, -0.0784528]\n",
      "Outside Latitude & Longitude boundary --- 2130595813, [51.5332178, -0.0651403]\n",
      "Outside Latitude & Longitude boundary --- 2130595818, [51.5229687, -0.0758384]\n",
      "Outside Latitude & Longitude boundary --- 2130595821, [51.5271464, -0.0763154]\n",
      "Outside Latitude & Longitude boundary --- 2130595827, [51.5218553, -0.0782365]\n",
      "Outside Latitude & Longitude boundary --- 2130595830, [51.5343276, -0.0604605]\n",
      "Outside Latitude & Longitude boundary --- 2130595832, [51.533176, -0.0651103]\n",
      "Outside Latitude & Longitude boundary --- 2130595838, [51.5346348, -0.0628381]\n",
      "Outside Latitude & Longitude boundary --- 2130595862, [51.5230394, -0.0758153]\n",
      "Outside Latitude & Longitude boundary --- 2130595864, [51.53069, -0.0727879]\n",
      "Outside Latitude & Longitude boundary --- 2130595886, [51.5346799, -0.0609386]\n",
      "Outside Latitude & Longitude boundary --- 2130595887, [51.522114, -0.0771314]\n",
      "Outside Latitude & Longitude boundary --- 2130595890, [51.5349911, -0.0628503]\n",
      "Outside Latitude & Longitude boundary --- 2130595923, [51.523178, -0.0757705]\n",
      "Outside Latitude & Longitude boundary --- 2130595924, [51.5219418, -0.0779229]\n",
      "Outside Latitude & Longitude boundary --- 2130595925, [51.5272967, -0.0772533]\n",
      "Outside Latitude & Longitude boundary --- 2130595927, [51.5342892, -0.0603713]\n",
      "Outside Latitude & Longitude boundary --- 2130595928, [51.5234849, -0.0757273]\n",
      "Outside Latitude & Longitude boundary --- 2130595929, [51.5330789, -0.0632631]\n",
      "Outside Latitude & Longitude boundary --- 2130595936, [51.5235872, -0.0757186]\n",
      "Outside Latitude & Longitude boundary --- 2130595963, [51.5275029, -0.0768885]\n",
      "Outside Latitude & Longitude boundary --- 2130595965, [51.5308397, -0.0722654]\n",
      "Outside Latitude & Longitude boundary --- 2130595968, [51.5238562, -0.0757765]\n",
      "Outside Latitude & Longitude boundary --- 2130595969, [51.5342315, -0.0601992]\n",
      "Outside Latitude & Longitude boundary --- 2130595972, [51.5243216, -0.0759155]\n",
      "Outside Latitude & Longitude boundary --- 2130595974, [51.5278753, -0.0763495]\n",
      "Outside Latitude & Longitude boundary --- 2130595978, [51.526274, -0.0766405]\n",
      "Outside Latitude & Longitude boundary --- 2130595979, [51.5305691, -0.0731491]\n",
      "Outside Latitude & Longitude boundary --- 2130595986, [51.5242871, -0.0764431]\n",
      "Outside Latitude & Longitude boundary --- 2130595993, [51.5341566, -0.0599097]\n",
      "Outside Latitude & Longitude boundary --- 2130595996, [51.5253312, -0.0765605]\n",
      "Outside Latitude & Longitude boundary --- 2130596003, [51.528123, -0.0760392]\n",
      "Outside Latitude & Longitude boundary --- 2130596011, [51.5259924, -0.0766293]\n",
      "Outside Latitude & Longitude boundary --- 2130596016, [51.5308764, -0.0719265]\n",
      "Outside Latitude & Longitude boundary --- 2130596026, [51.5222116, -0.0767179]\n",
      "Outside Latitude & Longitude boundary --- 2130596031, [51.5261563, -0.0766425]\n",
      "Outside Latitude & Longitude boundary --- 2130596032, [51.5283931, -0.0756804]\n",
      "Outside Latitude & Longitude boundary --- 2130596034, [51.5331843, -0.0626747]\n",
      "Outside Latitude & Longitude boundary --- 2130596035, [51.5341241, -0.0596847]\n",
      "Outside Latitude & Longitude boundary --- 2130596038, [51.5309228, -0.0716333]\n",
      "Outside Latitude & Longitude boundary --- 2130596039, [51.5284356, -0.0756353]\n",
      "Outside Latitude & Longitude boundary --- 2130596043, [51.5340944, -0.0593558]\n",
      "Outside Latitude & Longitude boundary --- 2130596044, [51.5285994, -0.0754785]\n",
      "Outside Latitude & Longitude boundary --- 2130596049, [51.5220121, -0.0764539]\n",
      "Outside Latitude & Longitude boundary --- 2130596052, [51.5344472, -0.0606832]\n",
      "Outside Latitude & Longitude boundary --- 2130596054, [51.5263882, -0.0766356]\n",
      "Outside Latitude & Longitude boundary --- 2130596160, [51.5221535, -0.0761871]\n",
      "Outside Latitude & Longitude boundary --- 2130596175, [51.5329004, -0.0649807]\n",
      "Outside Latitude & Longitude boundary --- 2130596185, [51.5222007, -0.0761634]\n",
      "Outside Latitude & Longitude boundary --- 2130596191, [51.5265107, -0.0765397]\n",
      "Outside Latitude & Longitude boundary --- 2130596296, [51.5309576, -0.0712325]\n",
      "Outside Latitude & Longitude boundary --- 2130596297, [51.5288054, -0.0753184]\n",
      "Outside Latitude & Longitude boundary --- 2130596299, [51.5340886, -0.0590633]\n",
      "Outside Latitude & Longitude boundary --- 2130596303, [51.5294159, -0.0749322]\n",
      "Outside Latitude & Longitude boundary --- 2130596306, [51.5341114, -0.0587538]\n",
      "Outside Latitude & Longitude boundary --- 2130596307, [51.5332473, -0.062238]\n",
      "Outside Latitude & Longitude boundary --- 2130596308, [51.5297917, -0.0746497]\n",
      "Outside Latitude & Longitude boundary --- 2130596310, [51.5310027, -0.0705313]\n",
      "Outside Latitude & Longitude boundary --- 2337594755, [51.5273465, -0.0571696]\n",
      "Outside Latitude & Longitude boundary --- 2337594757, [51.5274369, -0.0559264]\n",
      "Outside Latitude & Longitude boundary --- 2337594759, [51.5274215, -0.056485]\n",
      "Outside Latitude & Longitude boundary --- 2337634011, [51.5254753, -0.0704752]\n",
      "Outside Latitude & Longitude boundary --- 2337634014, [51.525864, -0.0690731]\n",
      "Outside Latitude & Longitude boundary --- 2337634015, [51.5260661, -0.0679381]\n",
      "Outside Latitude & Longitude boundary --- 2737313091, [51.5219944, -0.0776812]\n",
      "Outside Latitude & Longitude boundary --- 2737313122, [51.5222437, -0.076144]\n",
      "Outside Latitude & Longitude boundary --- 2845718053, [51.5244279, -0.0764589]\n",
      "Outside Latitude & Longitude boundary --- 3506792638, [51.5291813, -0.0750806]\n",
      "tag  --->  {'k': 'bus', 'v': 'yes'}\n",
      "tag  --->  {'k': 'local_ref', 'v': 'HF'}\n",
      "tag  --->  {'k': 'name', 'v': 'Hoxton Station'}\n",
      "tag  --->  {'k': 'network', 'v': 'TfL'}\n",
      "tag  --->  {'k': 'operator', 'v': 'Transport for London'}\n",
      "tag  --->  {'k': 'public_transport', 'v': 'stop_position'}\n",
      "tag  --->  {'k': 'ref', 'v': '56780'}\n",
      "Outside Latitude & Longitude boundary --- 3742218662, [51.5243157, -0.0760051]\n",
      "tag  --->  {'k': 'addr:city', 'v': 'London'}\n",
      "tag  --->  {'k': 'addr:country', 'v': 'GB'}\n",
      "tag  --->  {'k': 'amenity', 'v': 'motorcycle_parking'}\n",
      "tag  --->  {'k': 'lit', 'v': 'yes'}\n",
      "tag  --->  {'k': 'name', 'v': 'Motorcycle parking'}\n",
      "tag  --->  {'k': 'surface', 'v': 'asphalt'}\n",
      "Outside Latitude & Longitude boundary --- 3942447676, [51.5347231, -0.0628269]\n",
      "Outside Latitude & Longitude boundary --- 4370554926, [51.5290286, 0.1170087]\n",
      "136\n",
      "Time take :: 0.111 seconds\n"
     ]
    }
   ],
   "source": [
    "def almost_within(num, lower, upper, tolerance=0.005):\n",
    "    return (num >= lower-tolerance and num <= upper+tolerance)\n",
    "\n",
    "start = time.time()\n",
    "node_IDs_to_remove = []\n",
    "count = 0\n",
    "for node in xmltree.findall(\"node\"):\n",
    "    attribs = node.attrib\n",
    "    lat, lon = float(attribs[\"lat\"]), float(attribs[\"lon\"])\n",
    "    if not (almost_within(lat, START_LAT, END_LAT) or almost_within(lon, START_LON, END_LON) ):\n",
    "        ID = attribs[\"id\"]\n",
    "        print \"Outside Latitude & Longitude boundary --- {}, [{}, {}]\".format(ID, lat, lon)\n",
    "        \n",
    "        for child in node:\n",
    "            print child.tag, ' ---> ', child.attrib\n",
    "        \n",
    "        node_IDs_to_remove.append(ID)\n",
    "        \n",
    "        #xpath_expression_nd = \".//nd[@ref='{}']\".format(ID)\n",
    "        #xpath_expression_nd_parent = \".//nd[@ref='{}']/..\".format(ID)\n",
    "        #xpath_expression_member = \".//member[@ref='{}']\".format(ID)\n",
    "        #xpath_expression_member_parent = \".//member[@ref='{}']/..\".format(ID)\n",
    "        \n",
    "        #print xmltree.find(xpath_expression_nd)\n",
    "        #print xmltree.find(xpath_expression_nd_parent)\n",
    "        #print xmltree.find(xpath_expression_member)\n",
    "        #print xmltree.find(xpath_expression_member_parent)\n",
    "        \n",
    "        count += 1\n",
    "\n",
    "print count\n",
    "print 'Time take :: {} seconds'.format(round(time.time() - start, 3) )"
   ]
  },
  {
   "cell_type": "code",
   "execution_count": 131,
   "metadata": {
    "collapsed": false
   },
   "outputs": [
    {
     "data": {
      "text/plain": [
       "['26244916',\n",
       " '129650696',\n",
       " '368002355',\n",
       " '803879504',\n",
       " '803879507',\n",
       " '1541138323',\n",
       " '1637627153',\n",
       " '1637627159',\n",
       " '1637627160',\n",
       " '1637627172',\n",
       " '1637627179',\n",
       " '1637627181',\n",
       " '1637627182',\n",
       " '1637627184',\n",
       " '1655439982',\n",
       " '1655439988',\n",
       " '1725575333',\n",
       " '1725576189',\n",
       " '1725576194',\n",
       " '1725576214',\n",
       " '1725576218',\n",
       " '1725576223',\n",
       " '1725576227',\n",
       " '1725576231',\n",
       " '1725576234',\n",
       " '1725576239',\n",
       " '1725576241',\n",
       " '1725576243',\n",
       " '1725576247',\n",
       " '1725576277',\n",
       " '1725576281',\n",
       " '1725576285',\n",
       " '1725576289',\n",
       " '1725576291',\n",
       " '2082501636',\n",
       " '2130595604',\n",
       " '2130595606',\n",
       " '2130595610',\n",
       " '2130595611',\n",
       " '2130595612',\n",
       " '2130595616',\n",
       " '2130595617',\n",
       " '2130595618',\n",
       " '2130595623',\n",
       " '2130595625',\n",
       " '2130595626',\n",
       " '2130595629',\n",
       " '2130595631',\n",
       " '2130595632',\n",
       " '2130595635',\n",
       " '2130595691',\n",
       " '2130595699',\n",
       " '2130595700',\n",
       " '2130595705',\n",
       " '2130595738',\n",
       " '2130595740',\n",
       " '2130595745',\n",
       " '2130595751',\n",
       " '2130595757',\n",
       " '2130595759',\n",
       " '2130595763',\n",
       " '2130595766',\n",
       " '2130595793',\n",
       " '2130595797',\n",
       " '2130595807',\n",
       " '2130595809',\n",
       " '2130595813',\n",
       " '2130595818',\n",
       " '2130595821',\n",
       " '2130595827',\n",
       " '2130595830',\n",
       " '2130595832',\n",
       " '2130595838',\n",
       " '2130595862',\n",
       " '2130595864',\n",
       " '2130595886',\n",
       " '2130595887',\n",
       " '2130595890',\n",
       " '2130595923',\n",
       " '2130595924',\n",
       " '2130595925',\n",
       " '2130595927',\n",
       " '2130595928',\n",
       " '2130595929',\n",
       " '2130595936',\n",
       " '2130595963',\n",
       " '2130595965',\n",
       " '2130595968',\n",
       " '2130595969',\n",
       " '2130595972',\n",
       " '2130595974',\n",
       " '2130595978',\n",
       " '2130595979',\n",
       " '2130595986',\n",
       " '2130595993',\n",
       " '2130595996',\n",
       " '2130596003',\n",
       " '2130596011',\n",
       " '2130596016',\n",
       " '2130596026',\n",
       " '2130596031',\n",
       " '2130596032',\n",
       " '2130596034',\n",
       " '2130596035',\n",
       " '2130596038',\n",
       " '2130596039',\n",
       " '2130596043',\n",
       " '2130596044',\n",
       " '2130596049',\n",
       " '2130596052',\n",
       " '2130596054',\n",
       " '2130596160',\n",
       " '2130596175',\n",
       " '2130596185',\n",
       " '2130596191',\n",
       " '2130596296',\n",
       " '2130596297',\n",
       " '2130596299',\n",
       " '2130596303',\n",
       " '2130596306',\n",
       " '2130596307',\n",
       " '2130596308',\n",
       " '2130596310',\n",
       " '2337594755',\n",
       " '2337594757',\n",
       " '2337594759',\n",
       " '2337634011',\n",
       " '2337634014',\n",
       " '2337634015',\n",
       " '2737313091',\n",
       " '2737313122',\n",
       " '2845718053',\n",
       " '3506792638',\n",
       " '3742218662',\n",
       " '3942447676',\n",
       " '4370554926']"
      ]
     },
     "execution_count": 131,
     "metadata": {},
     "output_type": "execute_result"
    }
   ],
   "source": [
    "node_IDs_to_remove"
   ]
  },
  {
   "cell_type": "code",
   "execution_count": 133,
   "metadata": {
    "collapsed": false
   },
   "outputs": [
    {
     "name": "stdout",
     "output_type": "stream",
     "text": [
      "{'changeset': '41755612', 'uid': '550203', 'timestamp': '2016-08-28T13:09:32Z', 'lon': '0.0060879', 'version': '3', 'user': 'RoverPuppy', 'lat': '51.5463538', 'id': '107284'}\n"
     ]
    }
   ],
   "source": [
    "for _, elem in ET.iterparse(FILENAME):\n",
    "    if elem.tag == \"node\":\n",
    "        if elem.attrib[\"id\"] in node_IDs_to_remove:\n",
    "            elem.remove()"
   ]
  },
  {
   "cell_type": "code",
   "execution_count": 135,
   "metadata": {
    "collapsed": false
   },
   "outputs": [],
   "source": [
    "from lxml import etree as le"
   ]
  },
  {
   "cell_type": "code",
   "execution_count": 139,
   "metadata": {
    "collapsed": false
   },
   "outputs": [],
   "source": [
    "doc = le.parse(FILENAME)"
   ]
  },
  {
   "cell_type": "code",
   "execution_count": 146,
   "metadata": {
    "collapsed": false
   },
   "outputs": [],
   "source": [
    "for elem in doc.iter():\n",
    "    if elem.tag == \"node\":\n",
    "        print elem\n",
    "        if elem.attrib[\"id\"] == \"3942447676\":\n",
    "            print elem\n",
    "    break"
   ]
  },
  {
   "cell_type": "code",
   "execution_count": 147,
   "metadata": {
    "collapsed": true
   },
   "outputs": [],
   "source": [
    "for elem in doc.iter():\n",
    "    if elem.tag == \"node\":\n",
    "        print elem\n",
    "        if elem.attrib[\"id\"] == \"3942447676\":\n",
    "            print elem\n",
    "    break"
   ]
  },
  {
   "cell_type": "code",
   "execution_count": null,
   "metadata": {
    "collapsed": true
   },
   "outputs": [],
   "source": []
  }
 ],
 "metadata": {
  "anaconda-cloud": {},
  "kernelspec": {
   "display_name": "Python [conda env:DAND]",
   "language": "python",
   "name": "conda-env-DAND-py"
  },
  "language_info": {
   "codemirror_mode": {
    "name": "ipython",
    "version": 2
   },
   "file_extension": ".py",
   "mimetype": "text/x-python",
   "name": "python",
   "nbconvert_exporter": "python",
   "pygments_lexer": "ipython2",
   "version": "2.7.12"
  }
 },
 "nbformat": 4,
 "nbformat_minor": 1
}
