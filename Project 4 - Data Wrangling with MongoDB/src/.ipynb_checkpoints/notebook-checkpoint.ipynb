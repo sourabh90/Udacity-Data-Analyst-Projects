{
 "cells": [
  {
   "cell_type": "code",
   "execution_count": 1,
   "metadata": {
    "collapsed": true
   },
   "outputs": [],
   "source": [
    "import xml.etree.cElementTree as ET\n",
    "import pprint\n",
    "from datetime import datetime\n",
    "import csv"
   ]
  },
  {
   "cell_type": "code",
   "execution_count": 2,
   "metadata": {
    "collapsed": true
   },
   "outputs": [],
   "source": [
    "FILENAME = \"../files/map-8.xml\""
   ]
  },
  {
   "cell_type": "code",
   "execution_count": 3,
   "metadata": {
    "collapsed": true
   },
   "outputs": [],
   "source": [
    "def gather_element_counts_levels(root, level=0, tag_counts={}, tag_levels={}):\n",
    "    \"\"\"\n",
    "    This is a utility function that will recursively get the root element of the\n",
    "    XML file and will find all the tags being used in the XML. It will\n",
    "    find the level of each tag(root tag being at level 1), and also count\n",
    "    the number of times the tags appeared.\n",
    "\n",
    "    :param root: Root element of the XML\n",
    "    :param level: Level of the root\n",
    "    :param tags: A dictionary object representing tag counts\n",
    "    :param levels: A dictionary object representing level of each tag\n",
    "\n",
    "    :return: A list object containing the root element, tag counts & levels\n",
    "    \"\"\"\n",
    "    tag_levels[root.tag] = level+1\n",
    "    for child in root.getchildren():\n",
    "        tag = child.tag\n",
    "        if tag in tag_counts:\n",
    "            tag_counts[tag] += 1\n",
    "        else:\n",
    "            tag_counts[tag] = 1\n",
    "        gather_element_counts_levels(child, level+1, tag_counts, tag_levels)\n",
    "    return [{\"root\": root.tag}, {\"tag_count\": tag_counts}, {\"tag_levels\": tag_levels}]\n",
    "\n",
    "\n",
    "def get_XML_stats(xmltree):\n",
    "    \"\"\"\n",
    "    This function will gather basic statistics for the input XML file. This includes\n",
    "    getting the root tag, and finding all the tags being used with the levels & counts.\n",
    "    :param filename: Input OSM XML file to parse\n",
    "    :return: dictionary containing basic statistics like tag counts, root tag etc.\n",
    "    \"\"\"\n",
    "    root = xmltree.getroot()\n",
    "    data = gather_element_counts_levels(root)\n",
    "\n",
    "    return data\n",
    "\n",
    "\n",
    "def print_tags(xmltree):\n",
    "    key_counts = {}\n",
    "    for _, element in xmltree:\n",
    "        if element.tag == \"tag\":\n",
    "            key = element.attrib[\"k\"]\n",
    "            if key in key_counts.keys():\n",
    "                key_counts[key] += 1\n",
    "            else:\n",
    "                key_counts[key] = 1\n",
    "            if key.lower().startswith(\"shop\"):\n",
    "                print key, element.attrib[\"v\"]\n",
    "    return key_counts\n"
   ]
  },
  {
   "cell_type": "code",
   "execution_count": 4,
   "metadata": {
    "collapsed": true
   },
   "outputs": [],
   "source": [
    "#def test():\n",
    "#    xmltree = ET.parse(FILENAME)\n",
    "#    stats = get_XML_stats(xmltree)\n",
    "#    pprint.pprint(stats)\n",
    "\n",
    "    #xmltree = ET.iterparse(FILENAME)\n",
    "    #tag_keys = print_tags(xmltree)\n",
    "    #for key in tag_keys:\n",
    "    #    print key, ' --- ', tag_keys.get(key)\n",
    "    #print_tags(xmltree)"
   ]
  },
  {
   "cell_type": "code",
   "execution_count": 19,
   "metadata": {
    "collapsed": true
   },
   "outputs": [],
   "source": [
    "### Write data sets extracted from XML file to CSV files in DB like format\n",
    "\n",
    "\n",
    "def write_csv(output_file, data, fields):\n",
    "    with open(output_file, 'w') as f:\n",
    "        writer = csv.DictWriter(f, fieldnames=fields)\n",
    "        writer.writeheader()\n",
    "        for rec in data:\n",
    "            try:\n",
    "                writer.writerow(rec)\n",
    "            except UnicodeEncodeError:\n",
    "                for key in rec.keys():\n",
    "                    rec[key] = rec[key].encode('utf-8')\n",
    "                writer.writerow(rec)"
   ]
  },
  {
   "cell_type": "code",
   "execution_count": 6,
   "metadata": {
    "collapsed": false
   },
   "outputs": [
    {
     "name": "stdout",
     "output_type": "stream",
     "text": [
      "[{'root': 'osm'},\n",
      " {'tag_count': {'bounds': 1,\n",
      "                'member': 22630,\n",
      "                'meta': 1,\n",
      "                'nd': 22210,\n",
      "                'node': 20889,\n",
      "                'note': 1,\n",
      "                'relation': 273,\n",
      "                'tag': 31897,\n",
      "                'way': 2835}},\n",
      " {'tag_levels': {'bounds': 2,\n",
      "                 'member': 3,\n",
      "                 'meta': 2,\n",
      "                 'nd': 3,\n",
      "                 'node': 2,\n",
      "                 'note': 2,\n",
      "                 'osm': 1,\n",
      "                 'relation': 2,\n",
      "                 'tag': 3,\n",
      "                 'way': 2}}]\n"
     ]
    }
   ],
   "source": [
    "xmltree = ET.parse(FILENAME)\n",
    "stats = get_XML_stats(xmltree)\n",
    "pprint.pprint(stats)"
   ]
  },
  {
   "cell_type": "code",
   "execution_count": 7,
   "metadata": {
    "collapsed": false
   },
   "outputs": [],
   "source": [
    "xmltree = ET.iterparse(FILENAME)\n",
    "\n",
    "nodes = []\n",
    "node_tags =  []\n",
    "\n",
    "ways = []\n",
    "way_nodes = []\n",
    "way_tags = []\n",
    "\n",
    "relations = []\n",
    "relation_members = []\n",
    "relation_tags = []\n",
    "\n",
    "x = set()\n",
    "\n",
    "for _, elem in xmltree:\n",
    "    if elem.tag == \"node\":\n",
    "        node = elem.attrib\n",
    "        nodes.append(node)\n",
    "        for child in elem:\n",
    "            record = {}\n",
    "            attribs = child.attrib\n",
    "            record[\"node_id\"] = node[\"id\"]\n",
    "            record[\"key\"] = attribs[\"k\"]\n",
    "            record[\"value\"] = attribs[\"v\"]\n",
    "            node_tags.append(record)\n",
    "        \n",
    "    if elem.tag == 'way':\n",
    "        way = elem.attrib\n",
    "        ways.append(way)\n",
    "        for child in elem:\n",
    "            record_nodes = {}\n",
    "            record_tags = {}\n",
    "            if child.tag == \"nd\":\n",
    "                record_nodes[\"way_id\"] = way[\"id\"]\n",
    "                record_nodes[\"node_id\"] = child.attrib[\"ref\"]  \n",
    "                way_nodes.append(record_nodes)\n",
    "            if child.tag == \"tag\":\n",
    "                k, v = child.attrib[\"k\"], child.attrib[\"v\"]\n",
    "                record_tags[\"way_id\"] = way[\"id\"]\n",
    "                record_tags[\"key\"] = k\n",
    "                record_tags[\"value\"] = v\n",
    "                way_tags += [record_tags] \n",
    "    if elem.tag == \"relation\":\n",
    "        relation = elem.attrib\n",
    "        relations.append(relation)\n",
    "        for child in elem:\n",
    "            record_members = {}\n",
    "            record_tags = {}\n",
    "            if child.tag == \"member\":\n",
    "                attribs = child.attrib\n",
    "                record_members[\"relation_id\"] = relation[\"id\"]\n",
    "                record_members[\"type\"] = attribs[\"type\"]\n",
    "                record_members[\"type_id\"] = attribs[\"ref\"]\n",
    "                record_members[\"role\"] = attribs[\"role\"]\n",
    "                relation_members.append(record_members)\n",
    "            if child.tag == \"tag\":\n",
    "                attribs = child.attrib\n",
    "                record_tags[\"relation_id\"] = relation[\"id\"]\n",
    "                record_tags[\"key\"] = attribs[\"k\"]\n",
    "                record_tags[\"value\"] = attribs[\"v\"]\n",
    "                relation_tags.append(record_tags)\n"
   ]
  },
  {
   "cell_type": "code",
   "execution_count": 8,
   "metadata": {
    "collapsed": false
   },
   "outputs": [
    {
     "name": "stdout",
     "output_type": "stream",
     "text": [
      "Total Nodes(<node>) ::  20889\n",
      "Total Node Tags (<node><tag>) ::  20619\n",
      "Total ways (<way>)::  2835\n",
      "Total way nodes (<way><nd>) ::  22210\n",
      "Total way tags (<way><tag>) :: 9658\n",
      "Total relations (<relation>)::  273\n",
      "Total relation members (<relation><member>) ::  22630\n",
      "Total relation tags (<relation><tag>) :: 1620\n"
     ]
    }
   ],
   "source": [
    "print 'Total Nodes(<node>) :: ', len(nodes)   \n",
    "print 'Total Node Tags (<node><tag>) :: ', len(node_tags)\n",
    "\n",
    "print 'Total ways (<way>):: ', len(ways)\n",
    "print 'Total way nodes (<way><nd>) :: ', len(way_nodes)\n",
    "print 'Total way tags (<way><tag>) ::', len(way_tags)\n",
    "\n",
    "print 'Total relations (<relation>):: ', len(relations)\n",
    "print 'Total relation members (<relation><member>) :: ', len(relation_members)\n",
    "print 'Total relation tags (<relation><tag>) ::', len(relation_tags)"
   ]
  },
  {
   "cell_type": "code",
   "execution_count": 9,
   "metadata": {
    "collapsed": false
   },
   "outputs": [
    {
     "name": "stdout",
     "output_type": "stream",
     "text": [
      "-------------------- Nodes --------------------\n",
      "{'changeset': '15601001',\n",
      " 'id': '108189',\n",
      " 'lat': '51.4949655',\n",
      " 'lon': '-0.0999827',\n",
      " 'timestamp': '2013-04-03T21:34:53Z',\n",
      " 'uid': '1016290',\n",
      " 'user': 'ika-chan!',\n",
      " 'version': '8'}\n",
      "-------------------- Nodes --------------------\n",
      "{'changeset': '35949272',\n",
      " 'id': '108190',\n",
      " 'lat': '51.4956757',\n",
      " 'lon': '-0.1007205',\n",
      " 'timestamp': '2015-12-14T16:29:27Z',\n",
      " 'uid': '322039',\n",
      " 'user': 'MacLondon',\n",
      " 'version': '8'}\n",
      "-------------------- Node Tags --------------------\n",
      "{'key': 'button_operated', 'node_id': '108190', 'value': 'yes'}\n",
      "-------------------- Node Tags --------------------\n",
      "{'key': 'crossing', 'node_id': '108190', 'value': 'traffic_signals'}\n",
      "-------------------- Node Tags --------------------\n",
      "{'key': 'crossing_ref', 'node_id': '108190', 'value': 'countdown'}\n",
      "-------------------- Node Tags --------------------\n",
      "{'key': 'highway', 'node_id': '108190', 'value': 'crossing'}\n",
      "-------------------- Nodes --------------------\n",
      "{'changeset': '39204038',\n",
      " 'id': '108191',\n",
      " 'lat': '51.4949814',\n",
      " 'lon': '-0.1011381',\n",
      " 'timestamp': '2016-05-10T00:43:11Z',\n",
      " 'uid': '322039',\n",
      " 'user': 'MacLondon',\n",
      " 'version': '10'}\n",
      "-------------------- Nodes --------------------\n",
      "{'changeset': '14998856',\n",
      " 'id': '108192',\n",
      " 'lat': '51.4935591',\n",
      " 'lon': '-0.1007059',\n",
      " 'timestamp': '2013-02-11T20:28:01Z',\n",
      " 'uid': '1016290',\n",
      " 'user': 'ika-chan!',\n",
      " 'version': '9'}\n",
      "-------------------- Node Tags --------------------\n",
      "{'key': 'crossing', 'node_id': '108192', 'value': 'traffic_signals'}\n",
      "-------------------- Node Tags --------------------\n",
      "{'key': 'crossing_ref', 'node_id': '108192', 'value': 'puffin'}\n",
      "-------------------- Node Tags --------------------\n",
      "{'key': 'highway', 'node_id': '108192', 'value': 'crossing'}\n",
      "-------------------- Nodes --------------------\n",
      "{'changeset': '23100722',\n",
      " 'id': '108383',\n",
      " 'lat': '51.5063315',\n",
      " 'lon': '-0.1022992',\n",
      " 'timestamp': '2014-06-23T12:56:19Z',\n",
      " 'uid': '346',\n",
      " 'user': 'Tom Chance',\n",
      " 'version': '2'}\n"
     ]
    }
   ],
   "source": [
    "# Print nodes\n",
    "for node in nodes[:5]:\n",
    "    print '-'*20, 'Nodes', '-'*20\n",
    "    pprint.pprint(node)\n",
    "    for node_tag in node_tags:\n",
    "        if node[\"id\"] == node_tag[\"node_id\"]:\n",
    "            print '-'*20, 'Node Tags', '-'*20\n",
    "            pprint.pprint(node_tag)\n",
    "        if node[\"id\"] < node_tag[\"node_id\"]:\n",
    "            break"
   ]
  },
  {
   "cell_type": "code",
   "execution_count": 10,
   "metadata": {
    "collapsed": false
   },
   "outputs": [
    {
     "name": "stdout",
     "output_type": "stream",
     "text": [
      "-------------------- Ways --------------------\n",
      "{'changeset': '33451074',\n",
      " 'id': '2700324',\n",
      " 'timestamp': '2015-08-19T21:45:52Z',\n",
      " 'uid': '322039',\n",
      " 'user': 'MacLondon',\n",
      " 'version': '9'}\n",
      "-------------------- Way Nodes --------------------\n",
      "{'node_id': '276508', 'way_id': '2700324'}\n",
      "-------------------- Way Nodes --------------------\n",
      "{'node_id': '3705603828', 'way_id': '2700324'}\n",
      "-------------------- Way Nodes --------------------\n",
      "{'node_id': '25499035', 'way_id': '2700324'}\n",
      "-------------------- Way Nodes --------------------\n",
      "{'node_id': '566223283', 'way_id': '2700324'}\n",
      "-------------------- Way Nodes --------------------\n",
      "{'node_id': '1999869627', 'way_id': '2700324'}\n",
      "-------------------- Way Nodes --------------------\n",
      "{'node_id': '364309', 'way_id': '2700324'}\n",
      "-------------------- Way Nodes --------------------\n",
      "{'node_id': '3213191693', 'way_id': '2700324'}\n",
      "-------------------- Way Nodes --------------------\n",
      "{'node_id': '25499003', 'way_id': '2700324'}\n",
      "-------------------- Way Nodes --------------------\n",
      "{'node_id': '264781892', 'way_id': '2700324'}\n",
      "-------------------- Way Nodes --------------------\n",
      "{'node_id': '25499028', 'way_id': '2700324'}\n",
      "-------------------- Way Tags --------------------\n",
      "{'key': 'highway', 'value': 'secondary', 'way_id': '2700324'}\n",
      "-------------------- Way Tags --------------------\n",
      "{'key': 'lit', 'value': 'yes', 'way_id': '2700324'}\n",
      "-------------------- Way Tags --------------------\n",
      "{'key': 'maxspeed', 'value': '20 mph', 'way_id': '2700324'}\n",
      "-------------------- Way Tags --------------------\n",
      "{'key': 'name', 'value': 'Harper Road', 'way_id': '2700324'}\n",
      "-------------------- Way Tags --------------------\n",
      "{'key': 'ref', 'value': 'B240', 'way_id': '2700324'}\n",
      "-------------------- Way Tags --------------------\n",
      "{'key': 'sidewalk', 'value': 'both', 'way_id': '2700324'}\n",
      "\n",
      "\n",
      "-------------------- Ways --------------------\n",
      "{'changeset': '37603925',\n",
      " 'id': '2731109',\n",
      " 'timestamp': '2016-03-04T09:03:22Z',\n",
      " 'uid': '508',\n",
      " 'user': 'Welshie',\n",
      " 'version': '25'}\n",
      "-------------------- Way Nodes --------------------\n",
      "{'node_id': '12353265', 'way_id': '2731109'}\n",
      "-------------------- Way Nodes --------------------\n",
      "{'node_id': '340301611', 'way_id': '2731109'}\n",
      "-------------------- Way Nodes --------------------\n",
      "{'node_id': '3799757270', 'way_id': '2731109'}\n",
      "-------------------- Way Tags --------------------\n",
      "{'key': 'highway', 'value': 'primary', 'way_id': '2731109'}\n",
      "-------------------- Way Tags --------------------\n",
      "{'key': 'lit', 'value': 'yes', 'way_id': '2731109'}\n",
      "-------------------- Way Tags --------------------\n",
      "{'key': 'maxspeed', 'value': '20 mph', 'way_id': '2731109'}\n",
      "-------------------- Way Tags --------------------\n",
      "{'key': 'name', 'value': 'Blackfriars Road', 'way_id': '2731109'}\n",
      "-------------------- Way Tags --------------------\n",
      "{'key': 'note', 'value': 'no PRN within ring road', 'way_id': '2731109'}\n",
      "-------------------- Way Tags --------------------\n",
      "{'key': 'operator', 'value': 'Transport for London', 'way_id': '2731109'}\n",
      "-------------------- Way Tags --------------------\n",
      "{'key': 'ref', 'value': 'A201', 'way_id': '2731109'}\n",
      "-------------------- Way Tags --------------------\n",
      "{'key': 'sidewalk', 'value': 'both', 'way_id': '2731109'}\n",
      "-------------------- Way Tags --------------------\n",
      "{'key': 'surface', 'value': 'asphalt', 'way_id': '2731109'}\n",
      "\n",
      "\n"
     ]
    }
   ],
   "source": [
    "# Print ways\n",
    "for way in ways[:2]:\n",
    "    print '-'*20, 'Ways', '-'*20\n",
    "    pprint.pprint(way)\n",
    "    for way_node in way_nodes:\n",
    "        if way[\"id\"] == way_node[\"way_id\"]:\n",
    "            print '-'*20, 'Way Nodes', '-'*20\n",
    "            pprint.pprint(way_node)\n",
    "        if way[\"id\"] < way_node[\"way_id\"]:\n",
    "            break\n",
    "    for way_tag in way_tags:\n",
    "        if way[\"id\"] == way_tag[\"way_id\"]:\n",
    "            print '-'*20, 'Way Tags', '-'*20\n",
    "            pprint.pprint(way_tag)\n",
    "        if way[\"id\"] < way_tag[\"way_id\"]:\n",
    "            break\n",
    "    print '\\n'"
   ]
  },
  {
   "cell_type": "code",
   "execution_count": 11,
   "metadata": {
    "collapsed": false
   },
   "outputs": [
    {
     "name": "stdout",
     "output_type": "stream",
     "text": [
      "-------------------- Relations --------------------\n",
      "{'changeset': '5464489',\n",
      " 'id': '2171',\n",
      " 'timestamp': '2010-08-11T16:28:04Z',\n",
      " 'uid': '346',\n",
      " 'user': 'Tom Chance',\n",
      " 'version': '2'}\n",
      "-------------------- Relation Members --------------------\n",
      "{'relation_id': '2171', 'role': 'outer', 'type': 'way', 'type_id': '8119005'}\n",
      "-------------------- Relation Members --------------------\n",
      "{'relation_id': '2171', 'role': 'inner', 'type': 'way', 'type_id': '8171114'}\n",
      "-------------------- Relation Tags --------------------\n",
      "{'key': 'type', 'relation_id': '2171', 'value': 'multipolygon'}\n",
      "\n",
      "\n"
     ]
    }
   ],
   "source": [
    "# Print relations\n",
    "for relation in relations[:1]:\n",
    "    print '-'*20, 'Relations', '-'*20\n",
    "    pprint.pprint(relation)\n",
    "    for relation_member in relation_members:\n",
    "        if relation[\"id\"] == relation_member[\"relation_id\"]:\n",
    "            print '-'*20, 'Relation Members', '-'*20\n",
    "            pprint.pprint(relation_member)\n",
    "        if relation[\"id\"] < relation_member[\"relation_id\"]:\n",
    "            break\n",
    "    for relation_tag in relation_tags:\n",
    "        if relation[\"id\"] == relation_tag[\"relation_id\"]:\n",
    "            print '-'*20, 'Relation Tags', '-'*20\n",
    "            pprint.pprint(relation_tag)\n",
    "        if relation[\"id\"] < relation_tag[\"relation_id\"]:\n",
    "            break\n",
    "    print '\\n'"
   ]
  },
  {
   "cell_type": "code",
   "execution_count": 16,
   "metadata": {
    "collapsed": false
   },
   "outputs": [
    {
     "data": {
      "text/plain": [
       "{'key': 'button_operated', 'node_id': '108190', 'value': 'yes'}"
      ]
     },
     "execution_count": 16,
     "metadata": {},
     "output_type": "execute_result"
    }
   ],
   "source": [
    "node_tags[0]"
   ]
  },
  {
   "cell_type": "code",
   "execution_count": 20,
   "metadata": {
    "collapsed": false
   },
   "outputs": [],
   "source": [
    "### Write data sets extracted from XML file to CSV files in DB like format\n",
    "\n",
    "# Write Nodes data\n",
    "fields = ['id', 'lat', 'lon', 'version', 'timestamp', 'changeset', 'uid', 'user']\n",
    "output_file = '../output/nodes.csv'\n",
    "write_csv(output_file, nodes, fields)\n",
    "\n",
    "# Write Node Tags data\n",
    "fields = ['node_id', 'key', 'value']\n",
    "output_file = '../output/node_tags.csv'\n",
    "write_csv(output_file, node_tags, fields)"
   ]
  },
  {
   "cell_type": "code",
   "execution_count": 22,
   "metadata": {
    "collapsed": false
   },
   "outputs": [],
   "source": [
    "# Write Ways data\n",
    "fields = ['id', 'version', 'timestamp', 'changeset', 'uid', 'user']\n",
    "output_file = '../output/ways.csv'\n",
    "write_csv(output_file, ways, fields)\n",
    "\n",
    "# Write Way Nodes data\n",
    "fields = ['way_id', 'node_id']\n",
    "output_file = '../output/way_nodes.csv'\n",
    "write_csv(output_file, way_nodes, fields)\n",
    "\n",
    "# Write Way Tags data\n",
    "fields = ['way_id', 'key', 'value']\n",
    "output_file = '../output/way_tags.csv'\n",
    "write_csv(output_file, way_tags, fields)\n"
   ]
  },
  {
   "cell_type": "code",
   "execution_count": 23,
   "metadata": {
    "collapsed": false
   },
   "outputs": [],
   "source": [
    "# Write Relations data\n",
    "fields = ['id', 'version', 'timestamp', 'changeset', 'uid', 'user']\n",
    "output_file = '../output/relations.csv'\n",
    "write_csv(output_file, relations, fields)\n",
    "            \n",
    "# Write Relation members data\n",
    "fields = ['relation_id', 'type', 'type_id', 'role']\n",
    "output_file = '../output/relation_members.csv'\n",
    "write_csv(output_file, relation_members, fields)\n",
    "            \n",
    "# Write Relation Tags data\n",
    "fields = ['relation_id', 'key', 'value']\n",
    "output_file = '../output/relation_tags.csv'\n",
    "write_csv(output_file, relation_tags, fields)"
   ]
  },
  {
   "cell_type": "code",
   "execution_count": 210,
   "metadata": {
    "collapsed": false
   },
   "outputs": [],
   "source": [
    "#### Audit nodes data \n",
    "data = {'changeset':[], 'uid':[], 'timestamp':[], 'lon':[], 'version':[], 'user':[], 'lat':[], 'id':[]}\n",
    "for node in nodes:\n",
    "    for key in node.keys():\n",
    "        value = node[key]\n",
    "        if key == 'timestamp':\n",
    "            value = datetime.strptime(node[key], \"%Y-%m-%dT%H:%M:%SZ\")\n",
    "        data[key].append(value)\n",
    "\n"
   ]
  },
  {
   "cell_type": "code",
   "execution_count": null,
   "metadata": {
    "collapsed": true
   },
   "outputs": [],
   "source": []
  }
 ],
 "metadata": {
  "anaconda-cloud": {},
  "kernelspec": {
   "display_name": "Python [conda env:DAND]",
   "language": "python",
   "name": "conda-env-DAND-py"
  },
  "language_info": {
   "codemirror_mode": {
    "name": "ipython",
    "version": 2
   },
   "file_extension": ".py",
   "mimetype": "text/x-python",
   "name": "python",
   "nbconvert_exporter": "python",
   "pygments_lexer": "ipython2",
   "version": "2.7.12"
  }
 },
 "nbformat": 4,
 "nbformat_minor": 1
}
